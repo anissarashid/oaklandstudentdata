{
 "cells": [
  {
   "cell_type": "code",
   "execution_count": 170,
   "metadata": {},
   "outputs": [],
   "source": [
    "import seaborn as sns\n",
    "import csv\n",
    "import numpy as np\n",
    "import pandas as pd\n",
    "import matplotlib.pyplot as plt\n",
    "import zipfile\n",
    "from pathlib import Path\n"
   ]
  },
  {
   "cell_type": "code",
   "execution_count": 171,
   "metadata": {},
   "outputs": [
    {
     "data": {
      "text/html": [
       "<div>\n",
       "<style scoped>\n",
       "    .dataframe tbody tr th:only-of-type {\n",
       "        vertical-align: middle;\n",
       "    }\n",
       "\n",
       "    .dataframe tbody tr th {\n",
       "        vertical-align: top;\n",
       "    }\n",
       "\n",
       "    .dataframe thead th {\n",
       "        text-align: right;\n",
       "    }\n",
       "</style>\n",
       "<table border=\"1\" class=\"dataframe\">\n",
       "  <thead>\n",
       "    <tr style=\"text-align: right;\">\n",
       "      <th></th>\n",
       "      <th>Metric</th>\n",
       "      <th>ST</th>\n",
       "      <th>ENTITY</th>\n",
       "      <th>CRDC ID</th>\n",
       "      <th>GROUP</th>\n",
       "      <th>SEX</th>\n",
       "      <th>AME</th>\n",
       "      <th>ASI</th>\n",
       "      <th>HI PAC</th>\n",
       "      <th>BLA</th>\n",
       "      <th>HIS</th>\n",
       "      <th>WHI</th>\n",
       "      <th>2+</th>\n",
       "      <th>TOT</th>\n",
       "      <th>504</th>\n",
       "      <th>LEP</th>\n",
       "    </tr>\n",
       "  </thead>\n",
       "  <tbody>\n",
       "    <tr>\n",
       "      <th>0</th>\n",
       "      <td>Law Referral, W/Out Dis</td>\n",
       "      <td>CA</td>\n",
       "      <td>Oakland Unified</td>\n",
       "      <td>\"0628050\"</td>\n",
       "      <td>Law</td>\n",
       "      <td>F</td>\n",
       "      <td>0</td>\n",
       "      <td>2</td>\n",
       "      <td>0</td>\n",
       "      <td>54</td>\n",
       "      <td>24</td>\n",
       "      <td>0</td>\n",
       "      <td>0</td>\n",
       "      <td>80</td>\n",
       "      <td>0</td>\n",
       "      <td>0</td>\n",
       "    </tr>\n",
       "    <tr>\n",
       "      <th>1</th>\n",
       "      <td>Law Referral, W/Out Dis</td>\n",
       "      <td>CA</td>\n",
       "      <td>Oakland Unified</td>\n",
       "      <td>\"0628050\"</td>\n",
       "      <td>Law</td>\n",
       "      <td>M</td>\n",
       "      <td>0</td>\n",
       "      <td>0</td>\n",
       "      <td>0</td>\n",
       "      <td>58</td>\n",
       "      <td>39</td>\n",
       "      <td>0</td>\n",
       "      <td>0</td>\n",
       "      <td>97</td>\n",
       "      <td>0</td>\n",
       "      <td>26</td>\n",
       "    </tr>\n",
       "    <tr>\n",
       "      <th>2</th>\n",
       "      <td>Law Referral, W/Out Dis</td>\n",
       "      <td>US</td>\n",
       "      <td>US</td>\n",
       "      <td>NaN</td>\n",
       "      <td>Law</td>\n",
       "      <td>F</td>\n",
       "      <td>1088</td>\n",
       "      <td>651</td>\n",
       "      <td>175</td>\n",
       "      <td>16658</td>\n",
       "      <td>12625</td>\n",
       "      <td>16212</td>\n",
       "      <td>1958</td>\n",
       "      <td>49367</td>\n",
       "      <td>0</td>\n",
       "      <td>2577</td>\n",
       "    </tr>\n",
       "    <tr>\n",
       "      <th>3</th>\n",
       "      <td>Law Referral, W/Out Dis</td>\n",
       "      <td>US</td>\n",
       "      <td>US</td>\n",
       "      <td>NaN</td>\n",
       "      <td>Law</td>\n",
       "      <td>M</td>\n",
       "      <td>1664</td>\n",
       "      <td>1791</td>\n",
       "      <td>382</td>\n",
       "      <td>27202</td>\n",
       "      <td>25787</td>\n",
       "      <td>37370</td>\n",
       "      <td>3630</td>\n",
       "      <td>97826</td>\n",
       "      <td>0</td>\n",
       "      <td>6843</td>\n",
       "    </tr>\n",
       "    <tr>\n",
       "      <th>4</th>\n",
       "      <td>Law Referral, With Dis</td>\n",
       "      <td>CA</td>\n",
       "      <td>Oakland Unified</td>\n",
       "      <td>\"0628050\"</td>\n",
       "      <td>Law</td>\n",
       "      <td>F</td>\n",
       "      <td>0</td>\n",
       "      <td>0</td>\n",
       "      <td>0</td>\n",
       "      <td>14</td>\n",
       "      <td>0</td>\n",
       "      <td>0</td>\n",
       "      <td>0</td>\n",
       "      <td>14</td>\n",
       "      <td>0</td>\n",
       "      <td>0</td>\n",
       "    </tr>\n",
       "  </tbody>\n",
       "</table>\n",
       "</div>"
      ],
      "text/plain": [
       "                    Metric  ST           ENTITY    CRDC ID GROUP SEX   AME  \\\n",
       "0  Law Referral, W/Out Dis  CA  Oakland Unified  \"0628050\"   Law   F     0   \n",
       "1  Law Referral, W/Out Dis  CA  Oakland Unified  \"0628050\"   Law   M     0   \n",
       "2  Law Referral, W/Out Dis  US               US        NaN   Law   F  1088   \n",
       "3  Law Referral, W/Out Dis  US               US        NaN   Law   M  1664   \n",
       "4   Law Referral, With Dis  CA  Oakland Unified  \"0628050\"   Law   F     0   \n",
       "\n",
       "    ASI HI PAC    BLA    HIS    WHI    2+    TOT 504   LEP  \n",
       "0     2      0     54     24      0     0     80   0     0  \n",
       "1     0      0     58     39      0     0     97   0    26  \n",
       "2   651    175  16658  12625  16212  1958  49367   0  2577  \n",
       "3  1791    382  27202  25787  37370  3630  97826   0  6843  \n",
       "4     0      0     14      0      0     0     14   0     0  "
      ]
     },
     "execution_count": 171,
     "metadata": {},
     "output_type": "execute_result"
    }
   ],
   "source": [
    "df = pd.read_csv('oakland.csv')\n",
    "df.head()"
   ]
  },
  {
   "cell_type": "code",
   "execution_count": 172,
   "metadata": {},
   "outputs": [
    {
     "data": {
      "text/html": [
       "<div>\n",
       "<style scoped>\n",
       "    .dataframe tbody tr th:only-of-type {\n",
       "        vertical-align: middle;\n",
       "    }\n",
       "\n",
       "    .dataframe tbody tr th {\n",
       "        vertical-align: top;\n",
       "    }\n",
       "\n",
       "    .dataframe thead th {\n",
       "        text-align: right;\n",
       "    }\n",
       "</style>\n",
       "<table border=\"1\" class=\"dataframe\">\n",
       "  <thead>\n",
       "    <tr style=\"text-align: right;\">\n",
       "      <th></th>\n",
       "      <th>ASI</th>\n",
       "      <th>BLA</th>\n",
       "      <th>HIS</th>\n",
       "      <th>WHI</th>\n",
       "      <th>2+</th>\n",
       "      <th>TOT</th>\n",
       "      <th>LEP</th>\n",
       "    </tr>\n",
       "    <tr>\n",
       "      <th>Metric</th>\n",
       "      <th></th>\n",
       "      <th></th>\n",
       "      <th></th>\n",
       "      <th></th>\n",
       "      <th></th>\n",
       "      <th></th>\n",
       "      <th></th>\n",
       "    </tr>\n",
       "  </thead>\n",
       "  <tbody>\n",
       "    <tr>\n",
       "      <th>Law Referral, W/Out Dis</th>\n",
       "      <td>2</td>\n",
       "      <td>112</td>\n",
       "      <td>63</td>\n",
       "      <td>0</td>\n",
       "      <td>0</td>\n",
       "      <td>177</td>\n",
       "      <td>26</td>\n",
       "    </tr>\n",
       "    <tr>\n",
       "      <th>Law Referral, With Dis</th>\n",
       "      <td>0</td>\n",
       "      <td>52</td>\n",
       "      <td>0</td>\n",
       "      <td>0</td>\n",
       "      <td>0</td>\n",
       "      <td>52</td>\n",
       "      <td>0</td>\n",
       "    </tr>\n",
       "    <tr>\n",
       "      <th>School Related Arrest, W Dis</th>\n",
       "      <td>0</td>\n",
       "      <td>6</td>\n",
       "      <td>0</td>\n",
       "      <td>0</td>\n",
       "      <td>0</td>\n",
       "      <td>6</td>\n",
       "      <td>0</td>\n",
       "    </tr>\n",
       "    <tr>\n",
       "      <th>School Related Arrest, W/Out Dis</th>\n",
       "      <td>0</td>\n",
       "      <td>16</td>\n",
       "      <td>6</td>\n",
       "      <td>0</td>\n",
       "      <td>0</td>\n",
       "      <td>22</td>\n",
       "      <td>0</td>\n",
       "    </tr>\n",
       "    <tr>\n",
       "      <th>Students With Disabilities served under IDEA</th>\n",
       "      <td>170</td>\n",
       "      <td>922</td>\n",
       "      <td>880</td>\n",
       "      <td>94</td>\n",
       "      <td>46</td>\n",
       "      <td>2112</td>\n",
       "      <td>829</td>\n",
       "    </tr>\n",
       "    <tr>\n",
       "      <th>Students With Disabilities served under Section 504, Not IDEA</th>\n",
       "      <td>28</td>\n",
       "      <td>122</td>\n",
       "      <td>99</td>\n",
       "      <td>102</td>\n",
       "      <td>30</td>\n",
       "      <td>385</td>\n",
       "      <td>0</td>\n",
       "    </tr>\n",
       "    <tr>\n",
       "      <th>Total enrollment</th>\n",
       "      <td>5399</td>\n",
       "      <td>10296</td>\n",
       "      <td>15477</td>\n",
       "      <td>4044</td>\n",
       "      <td>1833</td>\n",
       "      <td>37645</td>\n",
       "      <td>12053</td>\n",
       "    </tr>\n",
       "  </tbody>\n",
       "</table>\n",
       "</div>"
      ],
      "text/plain": [
       "                                                     ASI    BLA    HIS   WHI  \\\n",
       "Metric                                                                         \n",
       "Law Referral, W/Out Dis                                2    112     63     0   \n",
       "Law Referral, With Dis                                 0     52      0     0   \n",
       "School Related Arrest, W Dis                           0      6      0     0   \n",
       "School Related Arrest, W/Out Dis                       0     16      6     0   \n",
       "Students With Disabilities served under IDEA         170    922    880    94   \n",
       "Students With Disabilities served under Section...    28    122     99   102   \n",
       "Total enrollment                                    5399  10296  15477  4044   \n",
       "\n",
       "                                                      2+    TOT    LEP  \n",
       "Metric                                                                  \n",
       "Law Referral, W/Out Dis                                0    177     26  \n",
       "Law Referral, With Dis                                 0     52      0  \n",
       "School Related Arrest, W Dis                           0      6      0  \n",
       "School Related Arrest, W/Out Dis                       0     22      0  \n",
       "Students With Disabilities served under IDEA          46   2112    829  \n",
       "Students With Disabilities served under Section...    30    385      0  \n",
       "Total enrollment                                    1833  37645  12053  "
      ]
     },
     "execution_count": 172,
     "metadata": {},
     "output_type": "execute_result"
    }
   ],
   "source": [
    "df_oak = df[df['ENTITY'] == 'Oakland Unified']\n",
    "df_dis = df_oak.groupby('Metric').sum()\n",
    "df_dis"
   ]
  },
  {
   "cell_type": "code",
   "execution_count": 173,
   "metadata": {},
   "outputs": [
    {
     "data": {
      "text/plain": [
       "0.27350245716562627"
      ]
     },
     "execution_count": 173,
     "metadata": {},
     "output_type": "execute_result"
    }
   ],
   "source": [
    "#percentage of Black students\n",
    "oak_black = df_dis['BLA']['Total enrollment']\n",
    "total = df_dis['TOT']['Total enrollment']\n",
    "percent_black = oak_black/total\n",
    "percent_black"
   ]
  },
  {
   "cell_type": "code",
   "execution_count": 174,
   "metadata": {},
   "outputs": [
    {
     "data": {
      "image/png": "[encoded data removed]",
      "text/plain": [
       "<Figure size 432x288 with 1 Axes>"
      ]
     },
     "metadata": {
      "needs_background": "light"
     },
     "output_type": "display_data"
    }
   ],
   "source": [
    "race = df_oak.groupby('Metric', as_index= False).sum()\n",
    "\n",
    "race = pd.pivot_table(data = race, columns = ['Metric'], values = ['ASI', 'BLA', 'HIS', 'WHI', '2+', 'TOT', 'LEP'])\n",
    "race = race.reset_index()\n",
    "\n",
    "race = race.rename(columns={'index':'Race'})\n",
    "sns.barplot(x='Race', y='Total enrollment', data=race).set(title='Total Enrollment by Race')\n",
    "plt.ylabel(\"Number of Students\")\n",
    "plt.show()"
   ]
  },
  {
   "cell_type": "code",
   "execution_count": 175,
   "metadata": {},
   "outputs": [
    {
     "data": {
      "text/plain": [
       "(0.06633018993226192, 0.10139860139860139, 0.04846686449060336)"
      ]
     },
     "execution_count": 175,
     "metadata": {},
     "output_type": "execute_result"
    }
   ],
   "source": [
    "race['Disability'] = race['Students With Disabilities served under IDEA'] + race['Students With Disabilities served under Section 504, Not IDEA']\n",
    "\n",
    "#percentage of students with disabilities \n",
    "dis = list(race[race['Race']==\"TOT\"]['Disability'])[0]\n",
    "percent_dis = (dis)/total\n",
    "percent_dis\n",
    "\n",
    "#percentage of Black students with disabilities\n",
    "total_b = df_dis['BLA']['Total enrollment']\n",
    "dis_black = list(race[race['Race']==\"BLA\"]['Disability'])[0]\n",
    "percent_dis_b = dis_black/total_b\n",
    "\n",
    "\n",
    "#percentage of White students with disabilities\n",
    "total_w = df_dis['WHI']['Total enrollment']\n",
    "dis_white = list(race[race['Race']==\"WHI\"]['Disability'])[0]\n",
    "percent_dis_w = dis_white/total_w\n",
    "\n",
    "\n",
    "percent_dis, percent_dis_b, percent_dis_w"
   ]
  },
  {
   "cell_type": "code",
   "execution_count": 176,
   "metadata": {},
   "outputs": [
    {
     "data": {
      "image/png": "[encoded data removed]",
      "text/plain": [
       "<Figure size 432x288 with 1 Axes>"
      ]
     },
     "metadata": {
      "needs_background": "light"
     },
     "output_type": "display_data"
    }
   ],
   "source": [
    "ax1 = sns.barplot(y='Disability', x = 'Race', data=race).set(title='Students with Disabilities')\n",
    "plt.ylabel(\"Number of Students\")\n",
    "plt.show()"
   ]
  },
  {
   "cell_type": "code",
   "execution_count": 189,
   "metadata": {},
   "outputs": [
    {
     "data": {
      "text/plain": [
       "(0.22707423580786026, 0.21428571428571427)"
      ]
     },
     "execution_count": 189,
     "metadata": {},
     "output_type": "execute_result"
    }
   ],
   "source": [
    "race['Law Referral'] = race['Law Referral, W/Out Dis'] + race['Law Referral, With Dis']\n",
    "race['School Arrest'] = race['School Related Arrest, W Dis'] + race['School Related Arrest, W/Out Dis']\n",
    "\n",
    "#percentage of disabled students referred to law enforcement ***100% are Black students***\n",
    "dis_law_ref = df_dis['TOT']['Law Referral, With Dis']\n",
    "total_ref = list(race[race['Race']==\"TOT\"]['Law Referral'])[0]\n",
    "percent_ref_dis = dis_law_ref/total_ref\n",
    "\n",
    "#percentage of disabled students with school related arrests ***100% are Black students***\n",
    "dis_arrest = df_dis['TOT']['School Related Arrest, W Dis']\n",
    "total_arrest = list(race[race['Race']==\"TOT\"]['School Arrest'])[0]\n",
    "percent_arrest_dis = dis_arrest/total_arrest\n",
    "\n",
    "percent_ref_dis, percent_arrest_dis"
   ]
  },
  {
   "cell_type": "code",
   "execution_count": 190,
   "metadata": {},
   "outputs": [
    {
     "data": {
      "image/png": "[encoded data removed]",
      "text/plain": [
       "<Figure size 432x288 with 1 Axes>"
      ]
     },
     "metadata": {
      "needs_background": "light"
     },
     "output_type": "display_data"
    }
   ],
   "source": [
    "ax1 = sns.barplot(y='Law Referral', x = 'Race', data=race).set(title='Students with Law Referrals')\n",
    "plt.ylabel('Number of Students')\n",
    "plt.show()"
   ]
  },
  {
   "cell_type": "code",
   "execution_count": 191,
   "metadata": {},
   "outputs": [
    {
     "data": {
      "image/png": "[encoded data removed]",
      "text/plain": [
       "<Figure size 432x288 with 1 Axes>"
      ]
     },
     "metadata": {
      "needs_background": "light"
     },
     "output_type": "display_data"
    }
   ],
   "source": [
    "sns.barplot(y='Law Referral, With Dis', x = 'Race', data=race, palette = 'Blues').set(title='Law Referrals for Students with Disabilities')\n",
    "plt.ylabel('Number of Students')\n",
    "plt.show()"
   ]
  },
  {
   "cell_type": "code",
   "execution_count": 192,
   "metadata": {},
   "outputs": [
    {
     "data": {
      "image/png": "[encoded data removed]",
      "text/plain": [
       "<Figure size 432x288 with 1 Axes>"
      ]
     },
     "metadata": {
      "needs_background": "light"
     },
     "output_type": "display_data"
    }
   ],
   "source": [
    "bx1 = sns.barplot(y='School Arrest', x = 'Race', data=race).set(title='Students with School Related Arrests')\n",
    "plt.ylabel('Number of Students')\n",
    "plt.show()"
   ]
  },
  {
   "cell_type": "code",
   "execution_count": 193,
   "metadata": {},
   "outputs": [
    {
     "data": {
      "image/png": "[encoded data removed]",
      "text/plain": [
       "<Figure size 432x288 with 1 Axes>"
      ]
     },
     "metadata": {
      "needs_background": "light"
     },
     "output_type": "display_data"
    }
   ],
   "source": [
    "sns.barplot(y='School Related Arrest, W Dis', x = 'Race', data=race, palette = 'Blues').set(title='Number of School Related Arrests for Students with Disabilities')\n",
    "plt.ylabel('Number of Students')\n",
    "plt.show()"
   ]
  },
  {
   "cell_type": "code",
   "execution_count": 194,
   "metadata": {},
   "outputs": [
    {
     "data": {
      "text/plain": [
       "(0.006083145172001594, 0.0007437906760525966)"
      ]
     },
     "execution_count": 194,
     "metadata": {},
     "output_type": "execute_result"
    }
   ],
   "source": [
    "#percentage of all students referred to law enforcement\n",
    "percent_ref = total_ref/total\n",
    "\n",
    "#percentage of all students with school related arrests\n",
    "percent_arrest = total_arrest/total\n",
    "\n",
    "percent_ref, percent_arrest"
   ]
  },
  {
   "cell_type": "code",
   "execution_count": 195,
   "metadata": {},
   "outputs": [
    {
     "data": {
      "text/plain": [
       "(0.7161572052401747, 0.7857142857142857)"
      ]
     },
     "execution_count": 195,
     "metadata": {},
     "output_type": "execute_result"
    }
   ],
   "source": [
    "#percentage of law enforcement referrels who were Black students\n",
    "law_ref_b = list(race[race['Race']==\"BLA\"]['Law Referral'])[0]\n",
    "percent_ref_b = law_ref_b/total_ref\n",
    "\n",
    "#percentage school related arrests who were Black Students\n",
    "arrest_b = list(race[race['Race']==\"BLA\"]['School Arrest'])[0]\n",
    "percent_arrest_b = arrest_b/total_arrest\n",
    "\n",
    "percent_ref_b, percent_arrest_b"
   ]
  },
  {
   "cell_type": "code",
   "execution_count": 196,
   "metadata": {},
   "outputs": [
    {
     "data": {
      "text/plain": [
       "(0.0, 0.0)"
      ]
     },
     "execution_count": 196,
     "metadata": {},
     "output_type": "execute_result"
    }
   ],
   "source": [
    "#percentage of law enforcement referrels who were White students\n",
    "law_ref_w = list(race[race['Race']==\"WHI\"]['Law Referral'])[0]\n",
    "percent_ref_w = law_ref_w/total_ref\n",
    "\n",
    "#percentage school related arrests who were White Students\n",
    "arrest_w = list(race[race['Race']==\"WHI\"]['School Arrest'])[0]\n",
    "percent_arrest_w = arrest_w/total_arrest\n",
    "\n",
    "percent_ref_w, percent_arrest_w"
   ]
  },
  {
   "cell_type": "code",
   "execution_count": 197,
   "metadata": {},
   "outputs": [
    {
     "data": {
      "image/png": "[encoded data removed]",
      "text/plain": [
       "<Figure size 360x360 with 1 Axes>"
      ]
     },
     "metadata": {},
     "output_type": "display_data"
    },
    {
     "data": {
      "image/png": "[encoded data removed]",
      "text/plain": [
       "<Figure size 360x360 with 1 Axes>"
      ]
     },
     "metadata": {},
     "output_type": "display_data"
    },
    {
     "data": {
      "image/png": "[encoded data removed]",
      "text/plain": [
       "<Figure size 360x360 with 1 Axes>"
      ]
     },
     "metadata": {},
     "output_type": "display_data"
    }
   ],
   "source": [
    "race_pie = pd.DataFrame({'School Arrest': list(race['School Arrest']),\n",
    "                   'Law Referral': list(race['Law Referral']),\n",
    "                    'Total Enrollment': list(race['Total enrollment'])},\n",
    "                  index=race['Race'])\n",
    "race_pie = race_pie.drop(['TOT'])\n",
    "cx1 = race_pie.plot.pie(y='School Arrest', figsize=(5,5), autopct='%1.1f%%')\n",
    "cx2 = race_pie.plot.pie(y='Law Referral', figsize=(5,5), autopct='%1.1f%%', subplots=True)\n",
    "cx3 = race_pie.plot.pie(y='Total Enrollment', figsize=(5,5), autopct='%1.1f%%', subplots=True)"
   ]
  },
  {
   "cell_type": "code",
   "execution_count": 198,
   "metadata": {},
   "outputs": [
    {
     "data": {
      "text/html": [
       "<div>\n",
       "<style scoped>\n",
       "    .dataframe tbody tr th:only-of-type {\n",
       "        vertical-align: middle;\n",
       "    }\n",
       "\n",
       "    .dataframe tbody tr th {\n",
       "        vertical-align: top;\n",
       "    }\n",
       "\n",
       "    .dataframe thead th {\n",
       "        text-align: right;\n",
       "    }\n",
       "</style>\n",
       "<table border=\"1\" class=\"dataframe\">\n",
       "  <thead>\n",
       "    <tr style=\"text-align: right;\">\n",
       "      <th>Metric</th>\n",
       "      <th>Race</th>\n",
       "      <th>Law Referral, W/Out Dis</th>\n",
       "      <th>Law Referral, With Dis</th>\n",
       "      <th>School Related Arrest, W Dis</th>\n",
       "      <th>School Related Arrest, W/Out Dis</th>\n",
       "      <th>Students With Disabilities served under IDEA</th>\n",
       "      <th>Students With Disabilities served under Section 504, Not IDEA</th>\n",
       "      <th>Total enrollment</th>\n",
       "      <th>Disability</th>\n",
       "      <th>Law Referral</th>\n",
       "      <th>School Arrest</th>\n",
       "    </tr>\n",
       "  </thead>\n",
       "  <tbody>\n",
       "    <tr>\n",
       "      <th>0</th>\n",
       "      <td>2+</td>\n",
       "      <td>0</td>\n",
       "      <td>0</td>\n",
       "      <td>0</td>\n",
       "      <td>0</td>\n",
       "      <td>46</td>\n",
       "      <td>30</td>\n",
       "      <td>1833</td>\n",
       "      <td>76</td>\n",
       "      <td>0</td>\n",
       "      <td>0</td>\n",
       "    </tr>\n",
       "    <tr>\n",
       "      <th>1</th>\n",
       "      <td>ASI</td>\n",
       "      <td>2</td>\n",
       "      <td>0</td>\n",
       "      <td>0</td>\n",
       "      <td>0</td>\n",
       "      <td>170</td>\n",
       "      <td>28</td>\n",
       "      <td>5399</td>\n",
       "      <td>198</td>\n",
       "      <td>2</td>\n",
       "      <td>0</td>\n",
       "    </tr>\n",
       "    <tr>\n",
       "      <th>2</th>\n",
       "      <td>BLA</td>\n",
       "      <td>112</td>\n",
       "      <td>52</td>\n",
       "      <td>6</td>\n",
       "      <td>16</td>\n",
       "      <td>922</td>\n",
       "      <td>122</td>\n",
       "      <td>10296</td>\n",
       "      <td>1044</td>\n",
       "      <td>164</td>\n",
       "      <td>22</td>\n",
       "    </tr>\n",
       "    <tr>\n",
       "      <th>3</th>\n",
       "      <td>HIS</td>\n",
       "      <td>63</td>\n",
       "      <td>0</td>\n",
       "      <td>0</td>\n",
       "      <td>6</td>\n",
       "      <td>880</td>\n",
       "      <td>99</td>\n",
       "      <td>15477</td>\n",
       "      <td>979</td>\n",
       "      <td>63</td>\n",
       "      <td>6</td>\n",
       "    </tr>\n",
       "    <tr>\n",
       "      <th>4</th>\n",
       "      <td>LEP</td>\n",
       "      <td>26</td>\n",
       "      <td>0</td>\n",
       "      <td>0</td>\n",
       "      <td>0</td>\n",
       "      <td>829</td>\n",
       "      <td>0</td>\n",
       "      <td>12053</td>\n",
       "      <td>829</td>\n",
       "      <td>26</td>\n",
       "      <td>0</td>\n",
       "    </tr>\n",
       "    <tr>\n",
       "      <th>5</th>\n",
       "      <td>TOT</td>\n",
       "      <td>177</td>\n",
       "      <td>52</td>\n",
       "      <td>6</td>\n",
       "      <td>22</td>\n",
       "      <td>2112</td>\n",
       "      <td>385</td>\n",
       "      <td>37645</td>\n",
       "      <td>2497</td>\n",
       "      <td>229</td>\n",
       "      <td>28</td>\n",
       "    </tr>\n",
       "    <tr>\n",
       "      <th>6</th>\n",
       "      <td>WHI</td>\n",
       "      <td>0</td>\n",
       "      <td>0</td>\n",
       "      <td>0</td>\n",
       "      <td>0</td>\n",
       "      <td>94</td>\n",
       "      <td>102</td>\n",
       "      <td>4044</td>\n",
       "      <td>196</td>\n",
       "      <td>0</td>\n",
       "      <td>0</td>\n",
       "    </tr>\n",
       "  </tbody>\n",
       "</table>\n",
       "</div>"
      ],
      "text/plain": [
       "Metric Race  Law Referral, W/Out Dis  Law Referral, With Dis  \\\n",
       "0        2+                        0                       0   \n",
       "1       ASI                        2                       0   \n",
       "2       BLA                      112                      52   \n",
       "3       HIS                       63                       0   \n",
       "4       LEP                       26                       0   \n",
       "5       TOT                      177                      52   \n",
       "6       WHI                        0                       0   \n",
       "\n",
       "Metric  School Related Arrest, W Dis  School Related Arrest, W/Out Dis  \\\n",
       "0                                  0                                 0   \n",
       "1                                  0                                 0   \n",
       "2                                  6                                16   \n",
       "3                                  0                                 6   \n",
       "4                                  0                                 0   \n",
       "5                                  6                                22   \n",
       "6                                  0                                 0   \n",
       "\n",
       "Metric  Students With Disabilities served under IDEA  \\\n",
       "0                                                 46   \n",
       "1                                                170   \n",
       "2                                                922   \n",
       "3                                                880   \n",
       "4                                                829   \n",
       "5                                               2112   \n",
       "6                                                 94   \n",
       "\n",
       "Metric  Students With Disabilities served under Section 504, Not IDEA  \\\n",
       "0                                                      30               \n",
       "1                                                      28               \n",
       "2                                                     122               \n",
       "3                                                      99               \n",
       "4                                                       0               \n",
       "5                                                     385               \n",
       "6                                                     102               \n",
       "\n",
       "Metric  Total enrollment  Disability  Law Referral  School Arrest  \n",
       "0                   1833          76             0              0  \n",
       "1                   5399         198             2              0  \n",
       "2                  10296        1044           164             22  \n",
       "3                  15477         979            63              6  \n",
       "4                  12053         829            26              0  \n",
       "5                  37645        2497           229             28  \n",
       "6                   4044         196             0              0  "
      ]
     },
     "execution_count": 198,
     "metadata": {},
     "output_type": "execute_result"
    }
   ],
   "source": [
    "race"
   ]
  },
  {
   "cell_type": "code",
   "execution_count": 199,
   "metadata": {},
   "outputs": [
    {
     "data": {
      "text/html": [
       "<div>\n",
       "<style scoped>\n",
       "    .dataframe tbody tr th:only-of-type {\n",
       "        vertical-align: middle;\n",
       "    }\n",
       "\n",
       "    .dataframe tbody tr th {\n",
       "        vertical-align: top;\n",
       "    }\n",
       "\n",
       "    .dataframe thead th {\n",
       "        text-align: right;\n",
       "    }\n",
       "</style>\n",
       "<table border=\"1\" class=\"dataframe\">\n",
       "  <thead>\n",
       "    <tr style=\"text-align: right;\">\n",
       "      <th></th>\n",
       "      <th>School Arrest</th>\n",
       "      <th>Law Referral</th>\n",
       "      <th>Total Enrollment</th>\n",
       "      <th>School Arrest (%)</th>\n",
       "      <th>Law Referral (%)</th>\n",
       "      <th>Total Enrollment (%)</th>\n",
       "    </tr>\n",
       "    <tr>\n",
       "      <th>Race</th>\n",
       "      <th></th>\n",
       "      <th></th>\n",
       "      <th></th>\n",
       "      <th></th>\n",
       "      <th></th>\n",
       "      <th></th>\n",
       "    </tr>\n",
       "  </thead>\n",
       "  <tbody>\n",
       "    <tr>\n",
       "      <th>2+</th>\n",
       "      <td>0</td>\n",
       "      <td>0</td>\n",
       "      <td>1833</td>\n",
       "      <td>0.000000</td>\n",
       "      <td>0.000000</td>\n",
       "      <td>3.733045</td>\n",
       "    </tr>\n",
       "    <tr>\n",
       "      <th>ASI</th>\n",
       "      <td>0</td>\n",
       "      <td>2</td>\n",
       "      <td>5399</td>\n",
       "      <td>0.000000</td>\n",
       "      <td>0.784314</td>\n",
       "      <td>10.995479</td>\n",
       "    </tr>\n",
       "    <tr>\n",
       "      <th>BLA</th>\n",
       "      <td>22</td>\n",
       "      <td>164</td>\n",
       "      <td>10296</td>\n",
       "      <td>78.571429</td>\n",
       "      <td>64.313725</td>\n",
       "      <td>20.968596</td>\n",
       "    </tr>\n",
       "    <tr>\n",
       "      <th>HIS</th>\n",
       "      <td>6</td>\n",
       "      <td>63</td>\n",
       "      <td>15477</td>\n",
       "      <td>21.428571</td>\n",
       "      <td>24.705882</td>\n",
       "      <td>31.520101</td>\n",
       "    </tr>\n",
       "    <tr>\n",
       "      <th>LEP</th>\n",
       "      <td>0</td>\n",
       "      <td>26</td>\n",
       "      <td>12053</td>\n",
       "      <td>0.000000</td>\n",
       "      <td>10.196078</td>\n",
       "      <td>24.546862</td>\n",
       "    </tr>\n",
       "    <tr>\n",
       "      <th>WHI</th>\n",
       "      <td>0</td>\n",
       "      <td>0</td>\n",
       "      <td>4044</td>\n",
       "      <td>0.000000</td>\n",
       "      <td>0.000000</td>\n",
       "      <td>8.235917</td>\n",
       "    </tr>\n",
       "  </tbody>\n",
       "</table>\n",
       "</div>"
      ],
      "text/plain": [
       "      School Arrest  Law Referral  Total Enrollment  School Arrest (%)  \\\n",
       "Race                                                                     \n",
       "2+                0             0              1833           0.000000   \n",
       "ASI               0             2              5399           0.000000   \n",
       "BLA              22           164             10296          78.571429   \n",
       "HIS               6            63             15477          21.428571   \n",
       "LEP               0            26             12053           0.000000   \n",
       "WHI               0             0              4044           0.000000   \n",
       "\n",
       "      Law Referral (%)  Total Enrollment (%)  \n",
       "Race                                          \n",
       "2+            0.000000              3.733045  \n",
       "ASI           0.784314             10.995479  \n",
       "BLA          64.313725             20.968596  \n",
       "HIS          24.705882             31.520101  \n",
       "LEP          10.196078             24.546862  \n",
       "WHI           0.000000              8.235917  "
      ]
     },
     "execution_count": 199,
     "metadata": {},
     "output_type": "execute_result"
    }
   ],
   "source": [
    "race_pie['School Arrest (%)'] = 100*(race_pie['School Arrest']/sum(race_pie['School Arrest']))\n",
    "race_pie['Law Referral (%)'] = 100*(race_pie['Law Referral']/sum(race_pie['Law Referral']))\n",
    "race_pie['Total Enrollment (%)'] = 100*(race_pie['Total Enrollment']/sum(race_pie['Total Enrollment']))\n",
    "race_pie"
   ]
  },
  {
   "cell_type": "code",
   "execution_count": 203,
   "metadata": {},
   "outputs": [
    {
     "data": {
      "image/png": "[encoded data removed]",
      "text/plain": [
       "<Figure size 432x288 with 1 Axes>"
      ]
     },
     "metadata": {
      "needs_background": "light"
     },
     "output_type": "display_data"
    }
   ],
   "source": [
    "race_pie.plot.barh(y='School Arrest (%)').set(title='School Arrest % by Race')\n",
    "plt.ylabel('Race')\n",
    "plt.xlabel('Percentage')\n",
    "plt.show()"
   ]
  },
  {
   "cell_type": "code",
   "execution_count": 204,
   "metadata": {},
   "outputs": [
    {
     "data": {
      "image/png": "[encoded data removed]",
      "text/plain": [
       "<Figure size 432x288 with 1 Axes>"
      ]
     },
     "metadata": {
      "needs_background": "light"
     },
     "output_type": "display_data"
    }
   ],
   "source": [
    "race_pie.plot.barh(y='Law Referral (%)').set(title='Law Referral % by Race')\n",
    "plt.ylabel('Race')\n",
    "plt.xlabel('Percentage')\n",
    "plt.show()"
   ]
  },
  {
   "cell_type": "code",
   "execution_count": 205,
   "metadata": {},
   "outputs": [
    {
     "data": {
      "image/png": "[encoded data removed]",
      "text/plain": [
       "<Figure size 432x288 with 1 Axes>"
      ]
     },
     "metadata": {
      "needs_background": "light"
     },
     "output_type": "display_data"
    }
   ],
   "source": [
    "race_pie.plot.barh(y='Total Enrollment').set(title='Total Enrollment % by Race')\n",
    "plt.ylabel('Race')\n",
    "plt.xlabel('Percentage')\n",
    "plt.show()"
   ]
  },
  {
   "cell_type": "code",
   "execution_count": null,
   "metadata": {},
   "outputs": [],
   "source": []
  }
 ],
 "metadata": {
  "kernelspec": {
   "display_name": "Python 3",
   "language": "python",
   "name": "python3"
  },
  "language_info": {
   "codemirror_mode": {
    "name": "ipython",
    "version": 3
   },
   "file_extension": ".py",
   "mimetype": "text/x-python",
   "name": "python",
   "nbconvert_exporter": "python",
   "pygments_lexer": "ipython3",
   "version": "3.7.6"
  }
 },
 "nbformat": 4,
 "nbformat_minor": 4
}
